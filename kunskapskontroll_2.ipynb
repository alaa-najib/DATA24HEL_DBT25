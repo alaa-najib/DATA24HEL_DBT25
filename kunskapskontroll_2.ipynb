{
  "cells": [
    {
      "cell_type": "markdown",
      "metadata": {},
      "source": [
        "DATA24HEL_DBT25/Databastyper\n",
        "# Kunskapskontroll 2\n",
        "\n",
        "Gör kurserna i den här samlingen: [https://learn.microsoft.com/en-us/collections/3140s6twkorq6z?&sharingId=A70F2DF98827F6CC](https://learn.microsoft.com/en-us/collections/3140s6twkorq6z?&sharingId=A70F2DF98827F6CC)\n",
        "\n",
        "### OBS! Du behöver __inte__ göra *exercises*!\n",
        "\n",
        "Svara på frågorna nedan. Eftersom kurserna är på engelska har jag skrivit även frågorna på engelska. Det går bra att svara på svenska eller engelska.\n"
      ]
    },
    {
      "cell_type": "markdown",
      "metadata": {},
      "source": [
        "---\n",
        "## Microsoft Azure Data Fundamentals: Explore core data concepts\n",
        "### Explore core data concepts\n",
        "#### Identify data formats\n",
        "\n",
        "❓ What data format is often represented as JSON?"
      ]
    },
    {
      "cell_type": "markdown",
      "metadata": {},
      "source": [
        "✔️ Answer:\n",
        "JSON is a type of semi-structured data. It is often used to store and share data because it has a flexible format. Many APIs and NoSQL databases use JSON."
      ]
    },
    {
      "cell_type": "markdown",
      "metadata": {},
      "source": [
        "❓ What data format is represented in a tabular format?"
      ]
    },
    {
      "cell_type": "markdown",
      "metadata": {},
      "source": [
        "✔️ Answer:\n",
        "It is structured data. This type of data is organized in rows and columns, like in relational databases (SQL) and spreadsheets (Excel)."
      ]
    },
    {
      "cell_type": "markdown",
      "metadata": {},
      "source": [
        "❓ What is the data format of images, pdf-documents and binary files called?"
      ]
    },
    {
      "cell_type": "markdown",
      "metadata": {},
      "source": [
        "✔️ Answer:\n",
        "It is called unstructured data. This type of data does not follow a fixed format or schema and is typically stored as files rather than in databases with rows and columns."
      ]
    },
    {
      "cell_type": "markdown",
      "metadata": {},
      "source": [
        "#### Explore file storage\n"
      ]
    },
    {
      "cell_type": "markdown",
      "metadata": {},
      "source": [
        "❓ Give an example of an optimized file format for structured and semi-structured data."
      ]
    },
    {
      "cell_type": "markdown",
      "metadata": {},
      "source": [
        "✔️ Answer:\n",
        "\n",
        "For structured data: ORC (Optimized Row Columnar) – Like Parquet, ORC is a columnar storage format optimized for high performance, commonly used with Hive and other big data frameworks. It provides excellent compression and fast query execution.\n",
        "\n",
        "For semi-structured data: JSON Lines (JSONL) – This is a lightweight format where each line is a separate JSON object, making it easier to process in streaming applications and NoSQL databases like MongoDB."
      ]
    },
    {
      "cell_type": "markdown",
      "metadata": {},
      "source": [
        "#### Explore transactional data processing\n",
        "❓ What are OLTP systems designed for?\n"
      ]
    },
    {
      "cell_type": "markdown",
      "metadata": {},
      "source": [
        "**OLTP-system är designade för:**  \n",
        "- **Snabba transaktioner** – Hanterar många transaktioner i realtid.  \n",
        "- **Dataintegritet** – Säkerställer att data är korrekt och konsekvent.  \n",
        "- **Parallell åtkomst** – Flera användare kan arbeta samtidigt.  \n",
        "- **ACID-principer** – Atomicitet, Konsistens, Isolation, Durabilitet.  \n",
        "- **Dagliga operationer** – Används i banktjänster, e-handel, lagerhantering m.m."
      ]
    },
    {
      "cell_type": "markdown",
      "metadata": {},
      "source": [
        "#### Explore analytical data processing\n",
        "❓ What are OLAP systems designed for?\n"
      ]
    },
    {
      "cell_type": "markdown",
      "metadata": {},
      "source": [
        "✔️ Answer:\n",
        "\n",
        "- **Complex queries** – Analyze large volumes of historical data.\n",
        "- **Data aggregation** – Summarize and group data for insights.\n",
        "- **Multi-dimensional analysis** – View data from different perspectives (e.g., time, geography, product categories).\n",
        "- **Decision support** – Help businesses make strategic decisions.\n",
        "- **Precomputed calculations** – Use cubes and indexing for fast query performance.\n",
        "- **Read-heavy workloads** – Optimize for reading and analyzing data rather than frequent updates.\n",
        "These systems are commonly used in business intelligence, reporting, and data analytics.\n"
      ]
    },
    {
      "cell_type": "markdown",
      "metadata": {},
      "source": [
        "### Explore data roles and services\n",
        "#### Explore job roles in the world of data\n",
        "\n",
        "❓Describe some of the responsibilities of a:\n",
        "\n",
        "* Database Administrator\n",
        "* Data Engineer\n",
        "* Data Analyst"
      ]
    },
    {
      "cell_type": "markdown",
      "metadata": {},
      "source": [
        "✔️ Answer:\n",
        "- **Database Administrator (DBA):**\n",
        "\n",
        "Hanterar databaser och ser till att de fungerar bra.\n",
        "Säkerhetskopierar och återställer data vid behov.\n",
        "Ser till att databasen är säker och skyddad från obehörig åtkomst.\n",
        "Optimerar prestanda så att databasen är snabb.\n",
        "Uppdaterar och underhåller databassystem.\n",
        "\n",
        "-  **Data Engineer:**\n",
        "\n",
        "Skapar och hanterar system för att samla in och lagra data.\n",
        "Bygger dataflöden så att data kan flyttas mellan system.\n",
        "Ser till att data är ren och användbar.\n",
        "Optimerar datalagring för att hantera stora mängder data.\n",
        "Samarbetar med dataanalytiker och andra för att ge dem rätt data.\n",
        "\n",
        "- **Data Analyst:**\n",
        "\n",
        "Samlar in och undersöker data för att hitta mönster.\n",
        "Skapar rapporter och visualiseringar för att förklara data.\n",
        "Hjälper företag att förstå vad som händer genom siffror och statistik.\n",
        "Använder verktyg som Excel, SQL och BI-program.\n",
        "Gör förutsägelser och hjälper till att fatta bättre beslut."
      ]
    },
    {
      "cell_type": "markdown",
      "metadata": {},
      "source": [
        "---\n",
        "## Microsoft Azure Data Fundamentals: Explore relational data in Azure\n",
        "### Explore fundamental relational data concepts\n",
        "\n",
        "❓ How is relational data commonly organized?"
      ]
    },
    {
      "cell_type": "markdown",
      "metadata": {},
      "source": [
        "✔️ Answer:\n",
        "\n",
        "Relational data is commonly organized in tables.\n",
        "\n",
        "**Tables** – Data is stored in structured tables with rows and columns.\n",
        "**Rows** (Records) – Each row represents a single record (e.g., a customer, an order).\n",
        "**Columns** (Fields) – Each column represents a specific attribute (e.g., name, email, price).\n",
        "**Primary Key** – A unique identifier for each record in a table.\n",
        "**Foreign Key** – A link between tables that ensures relationships between data.\n",
        "**Relationships** – Data is connected using keys to avoid duplication and maintain consistency."
      ]
    },
    {
      "cell_type": "markdown",
      "metadata": {},
      "source": [
        "❓ What are the main reasons for normalizing relational data?"
      ]
    },
    {
      "cell_type": "markdown",
      "metadata": {},
      "source": [
        "✔️ Answer:\n",
        "Main Reasons for Normalizing Relational Data:\n",
        "Reduce Data Redundancy – Eliminates duplicate data to save storage space.\n",
        "Improve Data Integrity – Ensures accuracy and consistency in data.\n",
        "Enhance Data Organization – Structures data logically for better management.\n",
        "Simplify Data Maintenance – Makes updates, insertions, and deletions easier.\n",
        "Improve Query Performance – Optimizes database queries for faster retrieval.\n",
        "Avoid Anomalies – Prevents issues like update, insert, and delete anomalies."
      ]
    },
    {
      "cell_type": "markdown",
      "metadata": {},
      "source": [
        "### Explore relational database services in Azure\n",
        "\n",
        "❓ Which of the Azure SQL services requires you to manage configuration, backups, and other maintenance tasks yourself?"
      ]
    },
    {
      "cell_type": "markdown",
      "metadata": {},
      "source": [
        "✔️ Answer:\n",
        "Azure SQL Virtual Machines (VMs) kräver att du själv hanterar konfiguration, säkerhetskopiering och andra underhållsuppgifter.\n",
        "\n",
        "I denna tjänst körs SQL Server på en virtuell maskin, vilket ger dig full kontroll, men du måste:\n",
        "\n",
        "Installera och uppdatera SQL Server manuellt.\n",
        "Sköta säkerhetskopiering och återställning av data.\n",
        "Optimera prestanda och hantera säkerheten själv.\n",
        "Denna lösning passar om du vill ha maximal flexibilitet och anpassning, men det kräver mer arbete jämfört med andra Azure SQL-tjänster."
      ]
    },
    {
      "cell_type": "markdown",
      "metadata": {},
      "source": [
        "---\n",
        "## Microsoft Azure Data Fundamentals: Explore non-relational data in Azure\n",
        "### Explore Azure blob storage\n",
        "\n",
        "❓ What are the three types of blob that Azure Blob Storage supports?"
      ]
    },
    {
      "cell_type": "markdown",
      "metadata": {},
      "source": [
        "✔️ Answer:\n",
        "Azure Blob Storage supports three types of blobs:\n",
        "\n",
        "**Block Blobs** – Used for storing text and binary data, such as documents, images, and videos.\n",
        "**Append Blobs** – Optimized for log files and data that needs to be added in sequence without modification.\n",
        "**Page Blobs** – Designed for random read/write operations, commonly used for virtual machine disks."
      ]
    },
    {
      "cell_type": "markdown",
      "metadata": {},
      "source": [
        "### Explore fundamentals of Azure Cosmos DB\n",
        "#### Describe Azure Cosmos DB\n",
        "\n",
        "❓ Which data storage scenarios are Azure Cosmos DB suitable for? "
      ]
    },
    {
      "cell_type": "markdown",
      "metadata": {},
      "source": [
        "✔️ Answer:\n",
        "Global Distribution – Storing and accessing data across multiple regions for low-latency applications.\n",
        "\n",
        "Scalability – Handling large amounts of data with fast read and write performance.\n",
        "\n",
        "Multi-Model Support – Working with different types of data, such as document, key-value, graph, and column-family.\n",
        "\n",
        "Real-Time Applications – Supporting fast and highly available applications like IoT, gaming, and financial transactions.\n",
        "\n",
        "High Availability – Ensuring continuous access to data with automatic replication."
      ]
    },
    {
      "cell_type": "markdown",
      "metadata": {},
      "source": [
        "#### Identify Azure Cosmos DB API\n",
        "\n",
        "❓ With Azure Cosmos DB for NoSQL you can use SQL syntax to make queries to a NoSQL database, but how are the results formatted?"
      ]
    },
    {
      "cell_type": "markdown",
      "metadata": {},
      "source": [
        "✔️ Answer:\n",
        "With Azure Cosmos DB for NoSQL, you can use SQL syntax to query the database, but the results are formatted as JSON (JavaScript Object Notation)."
      ]
    },
    {
      "cell_type": "markdown",
      "metadata": {},
      "source": [
        "---\n",
        "## Explore fundamentals of large-scale analytics\n",
        "### Explore analytical data stores\n"
      ]
    },
    {
      "cell_type": "markdown",
      "metadata": {},
      "source": [
        "\n",
        "❓ What kind of analytical data store should you choose when you have structured data?"
      ]
    },
    {
      "cell_type": "markdown",
      "metadata": {},
      "source": [
        "✔️ Answer:\n",
        "The best choice for an analytical data store is a relational data warehouse.\n",
        "\n",
        "Examples of Analytical Data Stores for Structured Data:\n",
        "Azure Synapse Analytics – A cloud-based data warehouse optimized for big data analytics.\n",
        "SQL-based Data Warehouses – Like Azure SQL Data Warehouse, used for structured data analysis.\n",
        "Relational Databases with OLAP Support – Such as SQL Server Analysis Services (SSAS) for multidimensional analysis.\n"
      ]
    },
    {
      "cell_type": "markdown",
      "metadata": {},
      "source": [
        "❓ What kind of analytical data store should you choose when you have a mix of structured, semi-structured and unstructured data?"
      ]
    },
    {
      "cell_type": "markdown",
      "metadata": {},
      "source": [
        "✔️ Answer:\n",
        "The best choice for an analytical data store is a data lake."
      ]
    },
    {
      "cell_type": "markdown",
      "metadata": {},
      "source": [
        "❓ What is a hybrid data store that combines features of data lakes and data warehouses called?"
      ]
    },
    {
      "cell_type": "markdown",
      "metadata": {},
      "source": [
        "✔️ Answer:\n",
        "A hybrid data store that combines features of data lakes and data warehouses is called a data lakehouse.\n",
        "\n",
        "Key Features of a Data Lakehouse:\n",
        "Supports All Data Types – Can handle structured, semi-structured, and unstructured data.\n",
        "Combines Flexibility of Data Lakes with Performance of Data Warehouses – Stores raw data like a data lake but supports fast querying like a warehouse.\n",
        "Supports ACID Transactions – Ensures reliable data processing.\n",
        "Optimized for Big Data Analytics – Works well with AI, ML, and BI tools.\n",
        "Examples of Data Lakehouse Solutions:\n",
        "Azure Synapse Analytics\n",
        "Databricks Lakehouse\n",
        "Google BigQuery\n",
        "Snowflake"
      ]
    },
    {
      "cell_type": "markdown",
      "metadata": {},
      "source": [
        "---\n",
        "## Store Data in Azure\n",
        "### Choose a data storage apporach in Azure\n",
        "#### Classify your data"
      ]
    },
    {
      "cell_type": "markdown",
      "metadata": {},
      "source": [
        "❓ How is business data classified?"
      ]
    },
    {
      "cell_type": "markdown",
      "metadata": {},
      "source": [
        "✔️ Answer:\n",
        "Business data is typically classified into different categories based on its sensitivity, usage, and importance. The main classifications include:\n",
        "\n",
        "1. Public Data\n",
        "Data that can be shared with anyone without risk.\n",
        "Example: Company website content, press releases.\n",
        "2. Internal Data\n",
        "Data meant for internal use within the organization.\n",
        "Example: Company policies, internal reports, employee handbooks.\n",
        "3. Confidential Data\n",
        "Sensitive data that requires controlled access.\n",
        "Example: Customer records, financial reports, business strategies.\n",
        "4. Highly Confidential / Restricted Data\n",
        "The most sensitive data that must be strictly protected.\n",
        "Example: Personal employee data, financial transactions, legal documents."
      ]
    },
    {
      "cell_type": "markdown",
      "metadata": {},
      "source": [
        "\n",
        "❓ How is data for a product catalog classified?"
      ]
    },
    {
      "cell_type": "markdown",
      "metadata": {},
      "source": [
        "✔️ Answer:\n",
        "Data for a product catalog is typically classified based on its sensitivity and usage. It usually falls into these categories:\n",
        "\n",
        "1. Public Data\n",
        "Product details that can be shared with customers and the public.\n",
        "Example: Product names, descriptions, prices, images, and specifications.\n",
        "2. Internal Data\n",
        "Data used for internal operations but not shared with customers.\n",
        "Example: Supplier details, stock levels, cost price, and internal notes.\n",
        "3. Confidential Data\n",
        "Sensitive business data that needs protection.\n",
        "Example: Sales performance data, profit margins, and supplier agreements.\n"
      ]
    },
    {
      "cell_type": "markdown",
      "metadata": {},
      "source": [
        "❓ How is data representing photos and videos classified?"
      ]
    },
    {
      "cell_type": "markdown",
      "metadata": {},
      "source": [
        "✔️ Answer:\n",
        "Data representing photos and videos is classified based on sensitivity, usage, and access level. It typically falls into these categories:\n",
        "\n",
        "1. Public Data\n",
        "Photos and videos that are meant for public access.\n",
        "Example: Marketing images, product demonstration videos, social media content.\n",
        "2. Internal Data\n",
        "Multimedia content used within the organization but not shared publicly.\n",
        "Example: Training videos, internal event photos, behind-the-scenes footage.\n",
        "3. Confidential Data\n",
        "Sensitive images or videos that require restricted access.\n",
        "Example: Surveillance footage, confidential product prototypes, employee records.\n",
        "4. Highly Confidential / Restricted Data\n",
        "The most sensitive content that must be strictly protected.\n",
        "Example: Legal evidence videos, classified research visuals, medical imaging data."
      ]
    },
    {
      "cell_type": "markdown",
      "metadata": {},
      "source": [
        "#### Group multiple operations in a transaction\n",
        "\n",
        "❓ What is ACID?"
      ]
    },
    {
      "cell_type": "markdown",
      "metadata": {},
      "source": [
        "✔️ Answer:\n",
        "ACID is a set of four properties that ensure the reliability, consistency, and integrity of database transactions. The term stands for:\n",
        "\n",
        "Atomicity – A transaction is all or nothing. If one part fails, the entire transaction is rolled back.\n",
        "\n",
        "Example: When transferring money between bank accounts, both debit and credit operations must complete; otherwise, neither happens.\n",
        "Consistency – The database must remain in a valid state before and after a transaction.\n",
        "\n",
        "Example: A transaction cannot violate database constraints, such as ensuring a product’s stock count never becomes negative.\n",
        "Isolation – Transactions run independently, without interfering with each other.\n",
        "\n",
        "Example: If two customers try to book the last seat on a flight, only one succeeds, preventing data conflicts.\n",
        "Durability – Once a transaction is committed, it stays saved even if the system crashes.\n",
        "\n",
        "Example: If a customer orders an item online and the system crashes, the order remains stored.\n"
      ]
    },
    {
      "cell_type": "markdown",
      "metadata": {},
      "source": [
        "❓ Which of the three datasets (product catalog, photos and videos, business data) is transactional?"
      ]
    },
    {
      "cell_type": "markdown",
      "metadata": {},
      "source": [
        "✔️ Answer:\n",
        "the business data is the most transactional.\n",
        "\n",
        "Why?\n",
        "Business data includes financial transactions, customer orders, inventory updates, and employee records.\n",
        "These operations require ACID compliance to ensure data integrity and consistency.\n",
        "Example: Processing an online order (updating stock, deducting payment, generating an invoice).\n",
        "What about the others?\n",
        "Product catalog – Mostly static or semi-static data, updated occasionally, not highly transactional.\n",
        "Photos and videos – These are binary files stored in a blob storage, not typically part of a transactional system."
      ]
    },
    {
      "cell_type": "markdown",
      "metadata": {},
      "source": [
        "#### Choose a storage solution in Azure"
      ]
    },
    {
      "cell_type": "markdown",
      "metadata": {},
      "source": [
        "❓ What is the recommended service for a semi-structured dataset that needs a high number of both read and write operations?"
      ]
    },
    {
      "cell_type": "markdown",
      "metadata": {},
      "source": [
        "✔️ Answer:\n",
        "Read/Write Operations\n",
        "The best choice is Azure Cosmos DB because:\n",
        "It supports semi-structured data (JSON, NoSQL)\n",
        "It handles high read and write operations efficiently\n",
        "It provides global distribution and scalability\n",
        "It offers low-latency performance, making it ideal for real-time applications\n",
        "\n",
        "Example Use Cases:\n",
        "\n",
        "IoT applications (sensor data updates)\n",
        "E-commerce (real-time product availability)\n",
        "Social media platforms (user posts, comments)"
      ]
    },
    {
      "cell_type": "markdown",
      "metadata": {},
      "source": [
        "❓ What is the recommended service for a structured dataset that will be used for analytical purposes only?"
      ]
    },
    {
      "cell_type": "markdown",
      "metadata": {},
      "source": [
        "✔️ Answer:\n",
        "Recommended Service for a Structured Dataset Used for Analytics\n",
        "The best choice is Azure Synapse Analytics because:\n",
        "It is optimized for analytical processing (OLAP)\n",
        "It handles large-scale structured data efficiently\n",
        "It integrates with Power BI, Machine Learning, and AI\n",
        "It supports parallel processing for complex queries\n",
        "\n",
        "Example Use Cases:\n",
        "\n",
        "Business Intelligence (BI) reports\n",
        "Financial data analysis\n",
        "Customer behavior insights"
      ]
    },
    {
      "cell_type": "markdown",
      "metadata": {},
      "source": [
        "### Create an Azure Storage Account\n",
        "#### Decide how many storage accounts you need"
      ]
    },
    {
      "cell_type": "markdown",
      "metadata": {},
      "source": [
        "❓ What is the difference between Hot and Cold access tiers?"
      ]
    },
    {
      "cell_type": "markdown",
      "metadata": {},
      "source": [
        "✔️ Answer:\n",
        "\n",
        "Azure Storage erbjuder två olika åtkomstnivåer: Hot (varm) och Cold (kall), beroende på hur ofta datan används.\n",
        "\n",
        "Hot-tier används för data som ofta behöver kommas åt. Den har en högre lagringskostnad men en lägre åtkomstkostnad, vilket gör den idealisk för aktiva databaser, webbplatser och appar.\n",
        "\n",
        "Cold-tier är avsedd för data som sällan används. Den har en lägre lagringskostnad men en högre åtkomstkostnad, vilket gör den lämplig för säkerhetskopior, arkivering och katastrofåterställning.\n",
        "\n",
        "Ett enkelt sätt att välja rätt nivå är:\n",
        "\n",
        "Hot för data du behöver ofta.\n",
        "Cold för data du sparar men sällan använder."
      ]
    },
    {
      "cell_type": "markdown",
      "metadata": {},
      "source": [
        "#### Choose your account settings"
      ]
    },
    {
      "cell_type": "markdown",
      "metadata": {},
      "source": [
        "❓ When creating an Azure Storage Account, which deployment model should you choose?"
      ]
    },
    {
      "cell_type": "markdown",
      "metadata": {},
      "source": [
        "✔️ Answer:\n",
        "När du skapar ett Azure Storage Account bör du välja Resource Manager som distributionsmodell. Det är den moderna och rekommenderade modellen eftersom den ger bättre hantering, automatisering och säkerhetsfunktioner jämfört med den äldre Classic-modellen."
      ]
    },
    {
      "cell_type": "markdown",
      "metadata": {},
      "source": [
        "#### Choose an account creation tool"
      ]
    },
    {
      "cell_type": "markdown",
      "metadata": {},
      "source": [
        "❓ The most commonly used account creation tool is the Azure Portal. Why?"
      ]
    },
    {
      "cell_type": "markdown",
      "metadata": {},
      "source": [
        "✔️ Answer:\n",
        "Det vanligaste verktyget för att skapa ett Azure-konto är Azure Portal eftersom det har ett grafiskt användargränssnitt (GUI) som gör det enkelt att konfigurera och hantera resurser utan att behöva använda kommandon eller kod. Det ger också en överblick över alla tjänster och inställningar på ett visuellt och användarvänligt sätt."
      ]
    },
    {
      "cell_type": "markdown",
      "metadata": {},
      "source": [
        "### Secure your Azure Storage account\n",
        "#### Explore Azure Storage security features"
      ]
    },
    {
      "cell_type": "markdown",
      "metadata": {},
      "source": [
        "❓ How do you disable encryption at rest?"
      ]
    },
    {
      "cell_type": "markdown",
      "metadata": {},
      "source": [
        "✔️ Answer:\n",
        "Det går inte att inaktivera kryptering vid vila (encryption at rest) i Azure Storage. Azure krypterar automatiskt all data med Azure Storage Service Encryption (SSE), och denna funktion kan inte stängas av eftersom den är en del av säkerhetskraven i Azure."
      ]
    },
    {
      "cell_type": "markdown",
      "metadata": {},
      "source": [
        "❓ What happens if you require *secure transfer* for your storage account?"
      ]
    },
    {
      "cell_type": "markdown",
      "metadata": {},
      "source": [
        "✔️ Answer:\n",
        "Om du kräver säker överföring (secure transfer required) för ditt Azure Storage-konto innebär det att endast säkra anslutningar får användas för att komma åt datan.\n",
        "\n",
        "Tillåtet:\n",
        "\n",
        "HTTPS istället för HTTP\n",
        "SMB 3.0+ istället för äldre versioner\n",
        "TLS-krypterade anslutningar\n",
        "Blockerat:\n",
        "\n",
        "Oskyddade HTTP-förfrågningar\n",
        "Äldre osäkra anslutningsprotokoll\n",
        "Detta skyddar data under överföring och förhindrar att känslig information skickas över osäkra kanaler."
      ]
    },
    {
      "cell_type": "markdown",
      "metadata": {},
      "source": [
        "❓ What is CORS?"
      ]
    },
    {
      "cell_type": "markdown",
      "metadata": {},
      "source": [
        "✔️ Answer:\n",
        "CORS (Cross-Origin Resource Sharing) är en säkerhetsfunktion i webbläsare som styr vilka domäner som får skicka förfrågningar till en webbserver.\n",
        "\n",
        "Om CORS är aktiverat i Azure Storage, kan en webbapplikation på en domän (t.ex. example.com) hämta data från en annan domän (t.ex. azurestorage.com).\n",
        "\n",
        "Om CORS inte är aktiverat, kommer webbläsaren att blockera förfrågningar från andra domäner för att förhindra säkerhetsrisker.\n",
        "\n",
        "CORS används ofta när webbappar behöver ladda resurser från externa API:er eller molntjänster."
      ]
    },
    {
      "cell_type": "markdown",
      "metadata": {},
      "source": [
        "❓ Which Azure service can you use to audit accesses to your data?"
      ]
    },
    {
      "cell_type": "markdown",
      "metadata": {},
      "source": [
        "✔️ Answer:\n",
        "För att granska åtkomst till din data i Azure kan du använda Azure Monitor och Azure Storage Logging.\n",
        "\n",
        "Azure Monitor – Samlar in, analyserar och visualiserar loggar och säkerhetshändelser.\n",
        "Azure Storage Logging – Registrerar alla åtkomstförsök till Azure Storage-konton.\n",
        "Microsoft Purview – För avancerad datagranskning och efterlevnadskontroller.\n",
        "\n",
        "Dessa verktyg hjälper till att övervaka säkerhet, upptäcka misstänkta aktiviteter och följa regler för datasäkerhet."
      ]
    },
    {
      "cell_type": "markdown",
      "metadata": {},
      "source": [
        "#### Understand storage account keys"
      ]
    },
    {
      "cell_type": "markdown",
      "metadata": {},
      "source": [
        "❓ Which authentication option is the best for Blob and Queue storage?"
      ]
    },
    {
      "cell_type": "markdown",
      "metadata": {},
      "source": [
        "✔️ Answer:\n",
        "Den bästa autentiseringsmetoden för Blob och Queue storage är Azure Active Directory (Azure AD) autentisering, särskilt när du behöver säkra åtkomst och hantera användarbehörigheter på ett centralt sätt.\n",
        "\n",
        "Azure AD ger möjlighet till rollbaserad åtkomstkontroll (RBAC) och bättre säkerhet genom identitetsbaserad autentisering.\n",
        "Shared Access Signatures (SAS) kan också användas, men den rekommenderas för specifika användningsfall och tidsbegränsad åtkomst.\n",
        "\n",
        "Azure AD ger mer robust och säker autentisering än SAS, särskilt för företagsapplikationer och långsiktig åtkomsthantering."
      ]
    },
    {
      "cell_type": "markdown",
      "metadata": {},
      "source": [
        "#### Understand shared access signatures (SAS)"
      ]
    },
    {
      "cell_type": "markdown",
      "metadata": {},
      "source": [
        "❓ What are the two levels of SAS?"
      ]
    },
    {
      "cell_type": "markdown",
      "metadata": {},
      "source": [
        "✔️ Answer: \n",
        "De två nivåerna av Shared Access Signatures (SAS) är:\n",
        "\n",
        "Kontobaserad SAS – Ger åtkomst till hela lagringskontot och alla resurser inom det, t.ex. Blob, Queue och File Storage. Du kan styra åtkomstnivåer som läsning, skrivning och hantering på kontonivå.\n",
        "\n",
        "Resursbaserad SAS – Ger åtkomst till en specifik resurs, som en specifik Blob eller en fil i en container. Du kan ange detaljerad åtkomst, som vilken åtgärd som får utföras (t.ex. läsning eller skrivning) och för vilken specifik resurs.\n",
        "\n"
      ]
    },
    {
      "cell_type": "markdown",
      "metadata": {},
      "source": [
        "#### Control network access to your storage account"
      ]
    },
    {
      "cell_type": "markdown",
      "metadata": {},
      "source": [
        "❓ What must you do before you change the default network access action from *grant* to *deny*?"
      ]
    },
    {
      "cell_type": "markdown",
      "metadata": {},
      "source": [
        "✔️ Answer:\n",
        "Innan du ändrar standardåtgärden för nätverksåtkomst från grant (tillåt) till deny (neka), måste du se till att alla nödvändiga klienter eller applikationer har tillgång via andra säkerhetsmekanismer, som till exempel VPN eller bepansrade IP-adresser.\n",
        "\n",
        "* Du bör också granska behörigheter och säkerställa att alla system som behöver åtkomst till lagringstjänster har konfigurerats för att tillåtas enligt de nya reglerna.\n",
        "\n",
        "Ändringen kan blockera all åtkomst om den inte är noggrant hanterad, så det är viktigt att göra noggranna tester och förbereda för ändringar."
      ]
    },
    {
      "cell_type": "markdown",
      "metadata": {},
      "source": [
        "### Store application data with Azure Blob Storage\n",
        "#### What are blobs?"
      ]
    },
    {
      "cell_type": "markdown",
      "metadata": {},
      "source": [
        "❓ What kind of data can't be stored as a blob?"
      ]
    },
    {
      "cell_type": "markdown",
      "metadata": {},
      "source": [
        "✔️ Answer: \n",
        "Blobs i Azure används för att lagra opartisk eller ostrukturerad data, såsom text, bilder, ljud, video och dokument. Men databaser och strukturerad data kan inte lagras som blobs eftersom blobs inte stöder relationell datahantering eller frågaoperationer.\n",
        "\n",
        "Exempel på data som inte kan lagras som blobs:\n",
        "\n",
        "Relaterad data (t.ex. data i tabeller som kräver SQL eller andra relationella databasoperationer)\n",
        "Filer som behöver direkt bearbetning via SQL (t.ex. data i tabeller eller databaser med komplexa relationer)"
      ]
    },
    {
      "cell_type": "markdown",
      "metadata": {},
      "source": [
        "❓ What kind of data shouldn't be stored as a blob?"
      ]
    },
    {
      "cell_type": "markdown",
      "metadata": {},
      "source": [
        "✔️ Answer:\n",
        "Data som bör undvikas att lagras som blobs inkluderar:\n",
        "\n",
        "Strukturerad data – Såsom data i tabeller eller databaser som kräver relationshantering eller SQL-frågor. För sådan data är en relationsdatabas mer lämplig.\n",
        "\n",
        "Databaser – Blobs är inte designade för att lagra hela databaser eller data som kräver komplexa relationer och transaktioner.\n",
        "\n",
        "Filer som kräver frekventa uppdateringar och komplexa operationer – Om du behöver ofta ändra data eller köra avancerade frågor, är en annan databaslösning som t.ex. Azure SQL Database bättre."
      ]
    },
    {
      "cell_type": "markdown",
      "metadata": {},
      "source": [
        "---\n",
        "## Integrate data with Azure Data Factory or Azure Synapse Pipeline\n",
        "### Understand Azure Data Factory"
      ]
    },
    {
      "cell_type": "markdown",
      "metadata": {},
      "source": [
        "❓ Which part of the symphony orchestra does Azure Data Factory play, according to the analogy?"
      ]
    },
    {
      "cell_type": "markdown",
      "metadata": {},
      "source": [
        "✔️ Answer:\n",
        "Enligt analogin spelar Azure Data Factory rollen som dirigent i ett symfoniorkester.\n",
        "\n",
        "Precis som en dirigent styr orkestern och ser till att alla instrument spelar i takt och samverkar, koordinerar Azure Data Factory alla olika komponenter och processer som krävs för att integrera, flytta och transformera data mellan olika system."
      ]
    },
    {
      "cell_type": "markdown",
      "metadata": {},
      "source": [
        "#### Describe data integration patterns"
      ]
    },
    {
      "cell_type": "markdown",
      "metadata": {},
      "source": [
        "❓ What does ETL stand for?"
      ]
    },
    {
      "cell_type": "markdown",
      "metadata": {},
      "source": [
        "✔️ Answer:\n",
        "ETL står för Extract, Transform, Load, vilket beskriver processen för att:\n",
        "\n",
        "Extract (Extrahera): Hämta data från olika källor.\n",
        "Transform (Transformera): Bearbeta och omvandla data till ett format som är användbart för vidare användning.\n",
        "Load (Ladda): Ladda den transformerade datan till en destination, som en databas eller datalager.\n"
      ]
    },
    {
      "cell_type": "markdown",
      "metadata": {},
      "source": [
        "❓ What does ELT stand for?"
      ]
    },
    {
      "cell_type": "markdown",
      "metadata": {},
      "source": [
        "✔️ Answer:\n",
        "ELT står för Extract, Load, Transform, vilket är en process där:\n",
        "\n",
        "Extract (Extrahera): Data hämtas från olika källor.\n",
        "Load (Ladda): Den extraherade datan laddas först till en databas eller datalager.\n",
        "Transform (Transformera): Datan transformeras och bearbetas efter att den har laddats, ofta i datalagret."
      ]
    },
    {
      "cell_type": "markdown",
      "metadata": {},
      "source": [
        "❓ What is the difference between ETL and ELT?"
      ]
    },
    {
      "cell_type": "markdown",
      "metadata": {},
      "source": [
        "✔️ Answer:\n",
        "Skillnaden mellan ETL och ELT ligger i när och var transformeringen av data sker:\n",
        "\n",
        "ETL (Extract, Transform, Load):\n",
        "\n",
        "Datan extraheras först, transformeras för att passa det målformat som krävs och laddas sedan in i datalagret.\n",
        "Passar bra när du behöver bearbeta datan innan den lagras och för datalager med begränsade resurser.\n",
        "ELT (Extract, Load, Transform):\n",
        "\n",
        "Datan extraheras, laddas direkt till datalagret och transformeras sedan där.\n",
        "Detta passar bra när datalagret har tillräckliga resurser för att hantera den stora mängden data och kan utföra omvandlingarna effektivt efter att datan har laddats."
      ]
    },
    {
      "cell_type": "markdown",
      "metadata": {},
      "source": [
        "#### Create Data Factory activities and pipelines"
      ]
    },
    {
      "cell_type": "markdown",
      "metadata": {},
      "source": [
        "❓ Which are the three categories of Azure Data factory activities?"
      ]
    },
    {
      "cell_type": "markdown",
      "metadata": {},
      "source": [
        "✔️ Answer:\n",
        "De tre kategorierna av aktiviteter i Azure Data Factory är:\n",
        "\n",
        "Data Movement Activities: Dessa aktiviteter används för att flytta data mellan olika källor och destinationer, som t.ex. kopiera data från en databas till en annan.\n",
        "\n",
        "Data Transformation Activities: Dessa aktiviteter används för att bearbeta och omvandla data innan den lagras eller används vidare. Exempel på detta är att köra SQL-frågor eller använda Data Flow för att transformera data.\n",
        "\n",
        "Control Activities: Dessa aktiviteter styr och hanterar flödet av andra aktiviteter i en pipeline, som att skapa loopar, fördröja aktiviteter eller hantera felhantering."
      ]
    },
    {
      "cell_type": "markdown",
      "metadata": {},
      "source": [
        "---\n",
        "## Large-scale data processing with Azure Data Lake Storage Gen2\n",
        "### Introduction to Azure Data Lake Storage Gen2\n",
        "#### Understand Azure Data Lake Storage Gen2"
      ]
    },
    {
      "cell_type": "markdown",
      "metadata": {},
      "source": [
        "❓ Which format is data stored in in a data lake?"
      ]
    },
    {
      "cell_type": "markdown",
      "metadata": {},
      "source": [
        "✔️ Answer:\n",
        "I en data lake lagras data vanligtvis i råformat (raw format). Detta innebär att data inte omvandlas eller struktureras innan den lagras, vilket gör det möjligt att lagra olika typer av data, som:\n",
        "\n",
        "Strukturerad data (t.ex. från databaser)\n",
        "Semi-strukturerad data (t.ex. JSON eller XML)\n",
        "Ostrukturerad data (t.ex. bilder, videor eller loggfiler)\n",
        "Data kan lagras i filformat som Parquet, ORC, Avro, eller JSON, beroende på behoven och användningen av datan.\n",
        "\n",
        "\n"
      ]
    },
    {
      "cell_type": "markdown",
      "metadata": {},
      "source": [
        "❓ Which factors should influence the planning of a data lake?"
      ]
    },
    {
      "cell_type": "markdown",
      "metadata": {},
      "source": [
        "✔️ Answer:\n",
        "När du planerar en data lake bör följande faktorer beaktas:\n",
        "\n",
        "Datatyper: Tänk på vilka typer av data som ska lagras, t.ex. strukturerad, semi-strukturerad eller ostrukturerad data. Data lakes kan hantera alla dessa, men det krävs rätt struktur och hantering för att optimera prestanda.\n",
        "\n",
        "Skalbarhet: En data lake ska kunna växa med företaget. Planera för en lösning som kan hantera stora volymer data över tid och som är flexibel för framtida behov.\n",
        "\n",
        "Datahantering och säkerhet: Du måste ha system för att hantera dataflöden, säkerställa att data är skyddad och att endast behöriga användare har tillgång till känslig information.\n",
        "\n",
        "Datakvalitet: Säkerställ att data är korrekt, konsekvent och användbar. Att ha en bra process för att validera och rengöra data är viktigt.\n",
        "\n",
        "Prestanda och tillgänglighet: Det är viktigt att överväga hur snabbt data ska vara tillgänglig och vilken typ av behandling som krävs för att säkerställa effektiv åtkomst och användning.\n",
        "\n",
        "Kostnad: Budgeten för en data lake måste beaktas, inklusive lagring, bearbetning och hantering av data, samt kostnader för säkerhet och hantering.\n",
        "\n"
      ]
    },
    {
      "cell_type": "markdown",
      "metadata": {},
      "source": [
        "#### Enable Azure Data Lake storage Gen2 in Azure Storage"
      ]
    },
    {
      "cell_type": "markdown",
      "metadata": {},
      "source": [
        "❓ What is the name of the option that enables Azure Data Lake Storage Gen2?"
      ]
    },
    {
      "cell_type": "markdown",
      "metadata": {},
      "source": [
        "✔️ Answer:\n",
        "The option that enables Azure Data Lake Storage Gen2 is called \"hierarchical namespace\". This option allows you to manage data in a more efficient way by enabling folder-like structures, which is a key feature of data lakes. When you enable this feature, you gain better performance for analytics workloads and easier management of large volumes of data."
      ]
    },
    {
      "cell_type": "markdown",
      "metadata": {},
      "source": [
        "#### Compare Azure Data Lake Storage and Azure Blob storage"
      ]
    },
    {
      "cell_type": "markdown",
      "metadata": {},
      "source": [
        "❓ What is the main difference between Azure Data Lake Storage and Azure Blob storage?"
      ]
    },
    {
      "cell_type": "markdown",
      "metadata": {},
      "source": [
        "✔️ Answer:\n",
        "Den största skillnaden mellan Azure Data Lake Storage och Azure Blob Storage är hur de hanterar och lagrar data:\n",
        "\n",
        "Azure Data Lake Storage:\n",
        "\n",
        "Är optimerat för stora mängder rådata och stöder en hierarkisk mappstruktur, vilket gör det lättare att organisera och hantera data.\n",
        "Används främst för analytiska ändamål och bearbetning av stora datamängder, som i data lakes, där du kan lagra alla typer av data: strukturerad, semi-strukturerad och ostrukturerad.\n",
        "Azure Blob Storage:\n",
        "\n",
        "Är mer generellt och stöder blockbaserade objektlagring. Används för att lagra blobs (binära stora objekt) som bilder, videor, säkerhetskopior och andra typer av data.\n",
        "Det saknar den hierarkiska strukturen som finns i Data Lake Storage och är mer lämpad för enklare lagring och åtkomst av stora objekt, särskilt för webbaserade applikationer och säkerhetskopiering."
      ]
    },
    {
      "cell_type": "markdown",
      "metadata": {},
      "source": [
        "❓ What kind of storage account should you use to store website assets such as images and videos?"
      ]
    },
    {
      "cell_type": "markdown",
      "metadata": {},
      "source": [
        "✔️ Answer:\n",
        "För att lagra webbplatsresurser som bilder och videor bör du använda ett General-purpose v2 (GPv2) lagringskonto i Azure Blob Storage. Detta konto är optimerat för olika arbetsbelastningar, inklusive statisk webbplatsvärd och är perfekt för att lagra stora filer som bilder och videor.\n",
        "\n",
        "Inom detta lagringskonto kan du använda Blob Storage-tjänsten, som gör det kostnadseffektivt och skalbart att lagra denna typ av data. Dessutom stöder GPv2-kontot funktioner som hot, cool och archive access tiers, vilket kan hjälpa dig att hantera kostnader beroende på hur ofta resurserna används."
      ]
    },
    {
      "cell_type": "markdown",
      "metadata": {},
      "source": [
        "❓ What kind of storage account should you use to store data that you wih to perform analytics on?"
      ]
    },
    {
      "cell_type": "markdown",
      "metadata": {},
      "source": [
        "✔️ Answer:\n",
        "To store data that you wish to perform analytics on, you should use a General-purpose v2 (GPv2) storage account in Azure Blob Storage or Azure Data Lake Storage Gen2.\n",
        "\n",
        "Azure Data Lake Storage Gen2 is particularly suited for large-scale analytics. It is optimized for storing large volumes of structured, semi-structured, and unstructured data, which can then be analyzed using tools like Azure Synapse Analytics or HDInsight.\n",
        "\n",
        "General-purpose v2 (GPv2) storage account in Azure Blob Storage is also a good option for storing data that will be analyzed, especially if you plan to use tools like Azure Databricks, Azure Machine Learning, or Azure SQL Data Warehouse.\n",
        "\n",
        "Both options offer scalability, security, and the ability to store different data types (structured and unstructured), making them ideal for analytics workloads."
      ]
    },
    {
      "cell_type": "markdown",
      "metadata": {},
      "source": [
        "#### Use Azure Data Lake Storage Gen2 in data analytics workloads"
      ]
    },
    {
      "cell_type": "markdown",
      "metadata": {},
      "source": [
        "❓ What are the three \"v's\" that are involved when processing big data?"
      ]
    },
    {
      "cell_type": "markdown",
      "metadata": {},
      "source": [
        "De tre \"V:na\" som är viktiga när man bearbetar stora datamängder (big data) är:\n",
        "\n",
        "Volym: Den stora mängden data som genereras. Detta kan handla om enorma mängder data som terabyte eller petabyte som inte kan hanteras med traditionella metoder.\n",
        "\n",
        "Hastighet: Hur snabbt data genereras och behöver bearbetas. Till exempel data som flödar i realtid från sensorer, sociala medier eller loggar.\n",
        "\n",
        "Variation: De olika typerna av data som måste bearbetas. Data kan vara strukturerad (tabeller), semi-strukturerad (som XML eller JSON), eller ostrukturerad (som bilder eller videor).\n",
        "\n",
        "Dessa tre faktorer, volym, hastighet och variation, hjälper till att definiera de utmaningar och krav som finns när man arbetar med big data."
      ]
    }
  ],
  "metadata": {
    "kernelspec": {
      "display_name": "Python 3 (ipykernel)",
      "language": "python",
      "name": "python3",
      "path": "/home/linus/.local/share/jupyter/kernels/python3"
    }
  },
  "nbformat": 4,
  "nbformat_minor": 4
}
